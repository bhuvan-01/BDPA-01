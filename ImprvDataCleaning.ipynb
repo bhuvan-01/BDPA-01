{
 "cells": [
  {
   "cell_type": "code",
   "execution_count": 8,
   "metadata": {},
   "outputs": [],
   "source": [
    "import pandas as pd\n",
    "import numpy as np\n",
    "import matplotlib.pyplot as plt\n",
    "import seaborn as sns\n",
    "from sklearn.preprocessing import StandardScaler\n",
    "from scipy import stats\n",
    "from scipy.stats import zscore\n",
    "from sklearn.preprocessing import MinMaxScaler\n",
    "\n",
    "data = pd.read_csv('diabetic_data.csv')"
   ]
  },
  {
   "cell_type": "code",
   "execution_count": 13,
   "metadata": {},
   "outputs": [
    {
     "data": {
      "text/plain": [
       "(101766, 49)"
      ]
     },
     "execution_count": 13,
     "metadata": {},
     "output_type": "execute_result"
    }
   ],
   "source": [
    "data.shape"
   ]
  },
  {
   "cell_type": "code",
   "execution_count": 9,
   "metadata": {},
   "outputs": [],
   "source": [
    "data.replace('?', pd.NA, inplace=True)"
   ]
  },
  {
   "cell_type": "code",
   "execution_count": 10,
   "metadata": {},
   "outputs": [
    {
     "data": {
      "text/plain": [
       "weight               96.858479\n",
       "medical_specialty    49.082208\n",
       "payer_code           39.557416\n",
       "race                  2.233555\n",
       "diag_3                1.398306\n",
       "diag_2                0.351787\n",
       "diag_1                0.020636\n",
       "dtype: float64"
      ]
     },
     "execution_count": 10,
     "metadata": {},
     "output_type": "execute_result"
    }
   ],
   "source": [
    "\n",
    "missing_values_percent = data.isna().mean() * 100\n",
    "\n",
    "missing_values_percent[missing_values_percent > 0].sort_values(ascending=False)"
   ]
  },
  {
   "cell_type": "code",
   "execution_count": 11,
   "metadata": {},
   "outputs": [],
   "source": [
    "data = data.drop('encounter_id', axis=1)"
   ]
  },
  {
   "cell_type": "code",
   "execution_count": 12,
   "metadata": {},
   "outputs": [
    {
     "data": {
      "text/plain": [
       "(101766, 49)"
      ]
     },
     "execution_count": 12,
     "metadata": {},
     "output_type": "execute_result"
    }
   ],
   "source": [
    "data.shape"
   ]
  },
  {
   "cell_type": "code",
   "execution_count": 14,
   "metadata": {},
   "outputs": [],
   "source": [
    "# Convert 'readmitted' to binary classification\n",
    "def convert_readmission(value):\n",
    "  if value == '<30':\n",
    "    return 1\n",
    "  else:\n",
    "    return 0\n",
    "\n",
    "data['readmitted'] = data['readmitted'].apply(convert_readmission)\n"
   ]
  },
  {
   "cell_type": "code",
   "execution_count": 15,
   "metadata": {},
   "outputs": [
    {
     "data": {
      "text/plain": [
       "patient_nbr                               85504905\n",
       "race                                     Caucasian\n",
       "gender                                      Female\n",
       "age                                        [40-50)\n",
       "weight                                        <NA>\n",
       "admission_type_id                                1\n",
       "discharge_disposition_id                         3\n",
       "admission_source_id                              7\n",
       "time_in_hospital                                 7\n",
       "payer_code                                    <NA>\n",
       "medical_specialty           Family/GeneralPractice\n",
       "num_lab_procedures                              60\n",
       "num_procedures                                   0\n",
       "num_medications                                 15\n",
       "number_outpatient                                0\n",
       "number_emergency                                 1\n",
       "number_inpatient                                 0\n",
       "diag_1                                         428\n",
       "diag_2                                      250.43\n",
       "diag_3                                       250.6\n",
       "number_diagnoses                                 8\n",
       "max_glu_serum                                 None\n",
       "A1Cresult                                     None\n",
       "metformin                                   Steady\n",
       "repaglinide                                     Up\n",
       "nateglinide                                     No\n",
       "chlorpropamide                                  No\n",
       "glimepiride                                     No\n",
       "acetohexamide                                   No\n",
       "glipizide                                       No\n",
       "glyburide                                       No\n",
       "tolbutamide                                     No\n",
       "pioglitazone                                    No\n",
       "rosiglitazone                                   No\n",
       "acarbose                                        No\n",
       "miglitol                                        No\n",
       "troglitazone                                    No\n",
       "tolazamide                                      No\n",
       "examide                                         No\n",
       "citoglipton                                     No\n",
       "insulin                                       Down\n",
       "glyburide-metformin                             No\n",
       "glipizide-metformin                             No\n",
       "glimepiride-pioglitazone                        No\n",
       "metformin-rosiglitazone                         No\n",
       "metformin-pioglitazone                          No\n",
       "change                                          Ch\n",
       "diabetesMed                                    Yes\n",
       "readmitted                                       1\n",
       "Name: 12, dtype: object"
      ]
     },
     "metadata": {},
     "output_type": "display_data"
    }
   ],
   "source": [
    "display(data.iloc[12])"
   ]
  },
  {
   "cell_type": "code",
   "execution_count": 16,
   "metadata": {},
   "outputs": [],
   "source": [
    "data['readmitted'] = data['readmitted'].astype(bool)"
   ]
  },
  {
   "cell_type": "code",
   "execution_count": 17,
   "metadata": {},
   "outputs": [
    {
     "name": "stdout",
     "output_type": "stream",
     "text": [
      "patient_nbr                  int64\n",
      "race                        object\n",
      "gender                      object\n",
      "age                         object\n",
      "weight                      object\n",
      "admission_type_id            int64\n",
      "discharge_disposition_id     int64\n",
      "admission_source_id          int64\n",
      "time_in_hospital             int64\n",
      "payer_code                  object\n",
      "medical_specialty           object\n",
      "num_lab_procedures           int64\n",
      "num_procedures               int64\n",
      "num_medications              int64\n",
      "number_outpatient            int64\n",
      "number_emergency             int64\n",
      "number_inpatient             int64\n",
      "diag_1                      object\n",
      "diag_2                      object\n",
      "diag_3                      object\n",
      "number_diagnoses             int64\n",
      "max_glu_serum               object\n",
      "A1Cresult                   object\n",
      "metformin                   object\n",
      "repaglinide                 object\n",
      "nateglinide                 object\n",
      "chlorpropamide              object\n",
      "glimepiride                 object\n",
      "acetohexamide               object\n",
      "glipizide                   object\n",
      "glyburide                   object\n",
      "tolbutamide                 object\n",
      "pioglitazone                object\n",
      "rosiglitazone               object\n",
      "acarbose                    object\n",
      "miglitol                    object\n",
      "troglitazone                object\n",
      "tolazamide                  object\n",
      "examide                     object\n",
      "citoglipton                 object\n",
      "insulin                     object\n",
      "glyburide-metformin         object\n",
      "glipizide-metformin         object\n",
      "glimepiride-pioglitazone    object\n",
      "metformin-rosiglitazone     object\n",
      "metformin-pioglitazone      object\n",
      "change                      object\n",
      "diabetesMed                 object\n",
      "readmitted                    bool\n",
      "dtype: object\n"
     ]
    }
   ],
   "source": [
    "print(data.dtypes)"
   ]
  },
  {
   "cell_type": "code",
   "execution_count": 18,
   "metadata": {},
   "outputs": [],
   "source": [
    "near_zero_variance_cols = ['repaglinide', 'nateglinide', 'chlorpropamide', \n",
    "                           'glimepiride', 'acetohexamide', 'tolbutamide', \n",
    "                           'acarbose', 'miglitol', 'troglitazone','examide', 'citoglipton',\n",
    "                           'glipizide-metformin', 'glimepiride-pioglitazone', \n",
    "                           'metformin-rosiglitazone', 'metformin-pioglitazone']\n",
    "\n",
    "data = data.drop(near_zero_variance_cols, axis=1) "
   ]
  },
  {
   "cell_type": "code",
   "execution_count": 19,
   "metadata": {},
   "outputs": [
    {
     "data": {
      "text/plain": [
       "(101766, 34)"
      ]
     },
     "execution_count": 19,
     "metadata": {},
     "output_type": "execute_result"
    }
   ],
   "source": [
    "data.shape"
   ]
  },
  {
   "cell_type": "code",
   "execution_count": 20,
   "metadata": {},
   "outputs": [
    {
     "name": "stdout",
     "output_type": "stream",
     "text": [
      "        patient_nbr  admission_type_id  discharge_disposition_id  \\\n",
      "0           8222157                  6                        25   \n",
      "1          55629189                  1                         1   \n",
      "2          86047875                  1                         1   \n",
      "3          82442376                  1                         1   \n",
      "4          42519267                  1                         1   \n",
      "...             ...                ...                       ...   \n",
      "101761    100162476                  1                         3   \n",
      "101762     74694222                  1                         4   \n",
      "101763     41088789                  1                         1   \n",
      "101764     31693671                  2                         3   \n",
      "101765    175429310                  1                         1   \n",
      "\n",
      "        admission_source_id  time_in_hospital  num_lab_procedures  \\\n",
      "0                         1                 1                  41   \n",
      "1                         7                 3                  59   \n",
      "2                         7                 2                  11   \n",
      "3                         7                 2                  44   \n",
      "4                         7                 1                  51   \n",
      "...                     ...               ...                 ...   \n",
      "101761                    7                 3                  51   \n",
      "101762                    5                 5                  33   \n",
      "101763                    7                 1                  53   \n",
      "101764                    7                10                  45   \n",
      "101765                    7                 6                  13   \n",
      "\n",
      "        num_procedures  num_medications  number_outpatient  number_emergency  \\\n",
      "0                    0                1                  0                 0   \n",
      "1                    0               18                  0                 0   \n",
      "2                    5               13                  2                 0   \n",
      "3                    1               16                  0                 0   \n",
      "4                    0                8                  0                 0   \n",
      "...                ...              ...                ...               ...   \n",
      "101761               0               16                  0                 0   \n",
      "101762               3               18                  0                 0   \n",
      "101763               0                9                  1                 0   \n",
      "101764               2               21                  0                 0   \n",
      "101765               3                3                  0                 0   \n",
      "\n",
      "        number_inpatient  number_diagnoses  \n",
      "0                      0                 1  \n",
      "1                      0                 9  \n",
      "2                      1                 6  \n",
      "3                      0                 7  \n",
      "4                      0                 5  \n",
      "...                  ...               ...  \n",
      "101761                 0                 9  \n",
      "101762                 1                 9  \n",
      "101763                 0                13  \n",
      "101764                 1                 9  \n",
      "101765                 0                 9  \n",
      "\n",
      "[101766 rows x 12 columns]\n"
     ]
    }
   ],
   "source": [
    "numerical_columns = data.select_dtypes(include=np.number)\n",
    "print(numerical_columns)"
   ]
  },
  {
   "cell_type": "code",
   "execution_count": 21,
   "metadata": {},
   "outputs": [
    {
     "name": "stdout",
     "output_type": "stream",
     "text": [
      "        patient_nbr  admission_type_id  discharge_disposition_id  \\\n",
      "count  1.017660e+05      101766.000000             101766.000000   \n",
      "mean   5.433040e+07           2.024006                  3.715642   \n",
      "std    3.869636e+07           1.445403                  5.280166   \n",
      "min    1.350000e+02           1.000000                  1.000000   \n",
      "25%    2.341322e+07           1.000000                  1.000000   \n",
      "50%    4.550514e+07           1.000000                  1.000000   \n",
      "75%    8.754595e+07           3.000000                  4.000000   \n",
      "max    1.895026e+08           8.000000                 28.000000   \n",
      "\n",
      "       admission_source_id  time_in_hospital  num_lab_procedures  \\\n",
      "count        101766.000000     101766.000000       101766.000000   \n",
      "mean              5.754437          4.395987           43.095641   \n",
      "std               4.064081          2.985108           19.674362   \n",
      "min               1.000000          1.000000            1.000000   \n",
      "25%               1.000000          2.000000           31.000000   \n",
      "50%               7.000000          4.000000           44.000000   \n",
      "75%               7.000000          6.000000           57.000000   \n",
      "max              25.000000         14.000000          132.000000   \n",
      "\n",
      "       num_procedures  num_medications  number_outpatient  number_emergency  \\\n",
      "count   101766.000000    101766.000000      101766.000000     101766.000000   \n",
      "mean         1.339730        16.021844           0.369357          0.197836   \n",
      "std          1.705807         8.127566           1.267265          0.930472   \n",
      "min          0.000000         1.000000           0.000000          0.000000   \n",
      "25%          0.000000        10.000000           0.000000          0.000000   \n",
      "50%          1.000000        15.000000           0.000000          0.000000   \n",
      "75%          2.000000        20.000000           0.000000          0.000000   \n",
      "max          6.000000        81.000000          42.000000         76.000000   \n",
      "\n",
      "       number_inpatient  number_diagnoses  \n",
      "count     101766.000000     101766.000000  \n",
      "mean           0.635566          7.422607  \n",
      "std            1.262863          1.933600  \n",
      "min            0.000000          1.000000  \n",
      "25%            0.000000          6.000000  \n",
      "50%            0.000000          8.000000  \n",
      "75%            1.000000          9.000000  \n",
      "max           21.000000         16.000000  \n"
     ]
    }
   ],
   "source": [
    "print(numerical_columns.describe())"
   ]
  },
  {
   "cell_type": "code",
   "execution_count": 22,
   "metadata": {},
   "outputs": [
    {
     "data": {
      "text/plain": [
       "weight               0.968585\n",
       "medical_specialty    0.490822\n",
       "payer_code           0.395574\n",
       "max_glu_serum        0.000000\n",
       "A1Cresult            0.000000\n",
       "dtype: float64"
      ]
     },
     "execution_count": 22,
     "metadata": {},
     "output_type": "execute_result"
    }
   ],
   "source": [
    "for column in ['race', 'diag_1', 'diag_2', 'diag_3']:\n",
    "    most_frequent = data[column].mode()[0]\n",
    "    data[column].fillna(most_frequent, inplace=True)\n",
    "\n",
    "# Re-check missing values to confirm changes\n",
    "data.isna().mean().sort_values(ascending=False).head()"
   ]
  }
 ],
 "metadata": {
  "kernelspec": {
   "display_name": "Python 3",
   "language": "python",
   "name": "python3"
  },
  "language_info": {
   "codemirror_mode": {
    "name": "ipython",
    "version": 3
   },
   "file_extension": ".py",
   "mimetype": "text/x-python",
   "name": "python",
   "nbconvert_exporter": "python",
   "pygments_lexer": "ipython3",
   "version": "3.10.11"
  }
 },
 "nbformat": 4,
 "nbformat_minor": 2
}
